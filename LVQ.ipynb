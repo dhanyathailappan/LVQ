{
  "nbformat": 4,
  "nbformat_minor": 0,
  "metadata": {
    "colab": {
      "name": "LVQ.ipynb",
      "provenance": [],
      "collapsed_sections": []
    },
    "kernelspec": {
      "name": "python3",
      "display_name": "Python 3"
    },
    "language_info": {
      "name": "python"
    }
  },
  "cells": [
    {
      "cell_type": "markdown",
      "source": [
        "IMPORT THE NECESSARY LIBRARIES"
      ],
      "metadata": {
        "id": "YzVeWpp8Hz9d"
      }
    },
    {
      "cell_type": "code",
      "execution_count": 1,
      "metadata": {
        "id": "ly-1_3fgG6As"
      },
      "outputs": [],
      "source": [
        "from sklearn import datasets\n",
        "from sklearn.model_selection import train_test_split\n",
        "from sklearn.preprocessing import minmax_scale\n",
        "from sklearn.metrics import precision_score, recall_score, accuracy_score, f1_score\n",
        "import matplotlib.pyplot as plt\n",
        "import numpy as np\n",
        "import math\n"
      ]
    },
    {
      "cell_type": "markdown",
      "source": [
        "LOAD THE DATASET"
      ],
      "metadata": {
        "id": "jlurqvI-H6QT"
      }
    },
    {
      "cell_type": "code",
      "source": [
        "digits = datasets.load_digits()\n",
        "digits\n"
      ],
      "metadata": {
        "colab": {
          "base_uri": "https://localhost:8080/"
        },
        "id": "jOVbwqXRHCHh",
        "outputId": "304078f2-405f-426b-a564-b99a3fd51b3d"
      },
      "execution_count": 2,
      "outputs": [
        {
          "output_type": "execute_result",
          "data": {
            "text/plain": [
              "{'DESCR': \".. _digits_dataset:\\n\\nOptical recognition of handwritten digits dataset\\n--------------------------------------------------\\n\\n**Data Set Characteristics:**\\n\\n    :Number of Instances: 1797\\n    :Number of Attributes: 64\\n    :Attribute Information: 8x8 image of integer pixels in the range 0..16.\\n    :Missing Attribute Values: None\\n    :Creator: E. Alpaydin (alpaydin '@' boun.edu.tr)\\n    :Date: July; 1998\\n\\nThis is a copy of the test set of the UCI ML hand-written digits datasets\\nhttps://archive.ics.uci.edu/ml/datasets/Optical+Recognition+of+Handwritten+Digits\\n\\nThe data set contains images of hand-written digits: 10 classes where\\neach class refers to a digit.\\n\\nPreprocessing programs made available by NIST were used to extract\\nnormalized bitmaps of handwritten digits from a preprinted form. From a\\ntotal of 43 people, 30 contributed to the training set and different 13\\nto the test set. 32x32 bitmaps are divided into nonoverlapping blocks of\\n4x4 and the number of on pixels are counted in each block. This generates\\nan input matrix of 8x8 where each element is an integer in the range\\n0..16. This reduces dimensionality and gives invariance to small\\ndistortions.\\n\\nFor info on NIST preprocessing routines, see M. D. Garris, J. L. Blue, G.\\nT. Candela, D. L. Dimmick, J. Geist, P. J. Grother, S. A. Janet, and C.\\nL. Wilson, NIST Form-Based Handprint Recognition System, NISTIR 5469,\\n1994.\\n\\n.. topic:: References\\n\\n  - C. Kaynak (1995) Methods of Combining Multiple Classifiers and Their\\n    Applications to Handwritten Digit Recognition, MSc Thesis, Institute of\\n    Graduate Studies in Science and Engineering, Bogazici University.\\n  - E. Alpaydin, C. Kaynak (1998) Cascading Classifiers, Kybernetika.\\n  - Ken Tang and Ponnuthurai N. Suganthan and Xi Yao and A. Kai Qin.\\n    Linear dimensionalityreduction using relevance weighted LDA. School of\\n    Electrical and Electronic Engineering Nanyang Technological University.\\n    2005.\\n  - Claudio Gentile. A New Approximate Maximal Margin Classification\\n    Algorithm. NIPS. 2000.\\n\",\n",
              " 'data': array([[ 0.,  0.,  5., ...,  0.,  0.,  0.],\n",
              "        [ 0.,  0.,  0., ..., 10.,  0.,  0.],\n",
              "        [ 0.,  0.,  0., ..., 16.,  9.,  0.],\n",
              "        ...,\n",
              "        [ 0.,  0.,  1., ...,  6.,  0.,  0.],\n",
              "        [ 0.,  0.,  2., ..., 12.,  0.,  0.],\n",
              "        [ 0.,  0., 10., ..., 12.,  1.,  0.]]),\n",
              " 'feature_names': ['pixel_0_0',\n",
              "  'pixel_0_1',\n",
              "  'pixel_0_2',\n",
              "  'pixel_0_3',\n",
              "  'pixel_0_4',\n",
              "  'pixel_0_5',\n",
              "  'pixel_0_6',\n",
              "  'pixel_0_7',\n",
              "  'pixel_1_0',\n",
              "  'pixel_1_1',\n",
              "  'pixel_1_2',\n",
              "  'pixel_1_3',\n",
              "  'pixel_1_4',\n",
              "  'pixel_1_5',\n",
              "  'pixel_1_6',\n",
              "  'pixel_1_7',\n",
              "  'pixel_2_0',\n",
              "  'pixel_2_1',\n",
              "  'pixel_2_2',\n",
              "  'pixel_2_3',\n",
              "  'pixel_2_4',\n",
              "  'pixel_2_5',\n",
              "  'pixel_2_6',\n",
              "  'pixel_2_7',\n",
              "  'pixel_3_0',\n",
              "  'pixel_3_1',\n",
              "  'pixel_3_2',\n",
              "  'pixel_3_3',\n",
              "  'pixel_3_4',\n",
              "  'pixel_3_5',\n",
              "  'pixel_3_6',\n",
              "  'pixel_3_7',\n",
              "  'pixel_4_0',\n",
              "  'pixel_4_1',\n",
              "  'pixel_4_2',\n",
              "  'pixel_4_3',\n",
              "  'pixel_4_4',\n",
              "  'pixel_4_5',\n",
              "  'pixel_4_6',\n",
              "  'pixel_4_7',\n",
              "  'pixel_5_0',\n",
              "  'pixel_5_1',\n",
              "  'pixel_5_2',\n",
              "  'pixel_5_3',\n",
              "  'pixel_5_4',\n",
              "  'pixel_5_5',\n",
              "  'pixel_5_6',\n",
              "  'pixel_5_7',\n",
              "  'pixel_6_0',\n",
              "  'pixel_6_1',\n",
              "  'pixel_6_2',\n",
              "  'pixel_6_3',\n",
              "  'pixel_6_4',\n",
              "  'pixel_6_5',\n",
              "  'pixel_6_6',\n",
              "  'pixel_6_7',\n",
              "  'pixel_7_0',\n",
              "  'pixel_7_1',\n",
              "  'pixel_7_2',\n",
              "  'pixel_7_3',\n",
              "  'pixel_7_4',\n",
              "  'pixel_7_5',\n",
              "  'pixel_7_6',\n",
              "  'pixel_7_7'],\n",
              " 'frame': None,\n",
              " 'images': array([[[ 0.,  0.,  5., ...,  1.,  0.,  0.],\n",
              "         [ 0.,  0., 13., ..., 15.,  5.,  0.],\n",
              "         [ 0.,  3., 15., ..., 11.,  8.,  0.],\n",
              "         ...,\n",
              "         [ 0.,  4., 11., ..., 12.,  7.,  0.],\n",
              "         [ 0.,  2., 14., ..., 12.,  0.,  0.],\n",
              "         [ 0.,  0.,  6., ...,  0.,  0.,  0.]],\n",
              " \n",
              "        [[ 0.,  0.,  0., ...,  5.,  0.,  0.],\n",
              "         [ 0.,  0.,  0., ...,  9.,  0.,  0.],\n",
              "         [ 0.,  0.,  3., ...,  6.,  0.,  0.],\n",
              "         ...,\n",
              "         [ 0.,  0.,  1., ...,  6.,  0.,  0.],\n",
              "         [ 0.,  0.,  1., ...,  6.,  0.,  0.],\n",
              "         [ 0.,  0.,  0., ..., 10.,  0.,  0.]],\n",
              " \n",
              "        [[ 0.,  0.,  0., ..., 12.,  0.,  0.],\n",
              "         [ 0.,  0.,  3., ..., 14.,  0.,  0.],\n",
              "         [ 0.,  0.,  8., ..., 16.,  0.,  0.],\n",
              "         ...,\n",
              "         [ 0.,  9., 16., ...,  0.,  0.,  0.],\n",
              "         [ 0.,  3., 13., ..., 11.,  5.,  0.],\n",
              "         [ 0.,  0.,  0., ..., 16.,  9.,  0.]],\n",
              " \n",
              "        ...,\n",
              " \n",
              "        [[ 0.,  0.,  1., ...,  1.,  0.,  0.],\n",
              "         [ 0.,  0., 13., ...,  2.,  1.,  0.],\n",
              "         [ 0.,  0., 16., ..., 16.,  5.,  0.],\n",
              "         ...,\n",
              "         [ 0.,  0., 16., ..., 15.,  0.,  0.],\n",
              "         [ 0.,  0., 15., ..., 16.,  0.,  0.],\n",
              "         [ 0.,  0.,  2., ...,  6.,  0.,  0.]],\n",
              " \n",
              "        [[ 0.,  0.,  2., ...,  0.,  0.,  0.],\n",
              "         [ 0.,  0., 14., ..., 15.,  1.,  0.],\n",
              "         [ 0.,  4., 16., ..., 16.,  7.,  0.],\n",
              "         ...,\n",
              "         [ 0.,  0.,  0., ..., 16.,  2.,  0.],\n",
              "         [ 0.,  0.,  4., ..., 16.,  2.,  0.],\n",
              "         [ 0.,  0.,  5., ..., 12.,  0.,  0.]],\n",
              " \n",
              "        [[ 0.,  0., 10., ...,  1.,  0.,  0.],\n",
              "         [ 0.,  2., 16., ...,  1.,  0.,  0.],\n",
              "         [ 0.,  0., 15., ..., 15.,  0.,  0.],\n",
              "         ...,\n",
              "         [ 0.,  4., 16., ..., 16.,  6.,  0.],\n",
              "         [ 0.,  8., 16., ..., 16.,  8.,  0.],\n",
              "         [ 0.,  1.,  8., ..., 12.,  1.,  0.]]]),\n",
              " 'target': array([0, 1, 2, ..., 8, 9, 8]),\n",
              " 'target_names': array([0, 1, 2, 3, 4, 5, 6, 7, 8, 9])}"
            ]
          },
          "metadata": {},
          "execution_count": 2
        }
      ]
    },
    {
      "cell_type": "code",
      "source": [
        "plt.imshow(digits.images[-2], cmap='gray_r')\n",
        "plt.show()\n"
      ],
      "metadata": {
        "colab": {
          "base_uri": "https://localhost:8080/",
          "height": 265
        },
        "id": "RYESFQkuHIB4",
        "outputId": "22c752bf-87c8-4929-be36-e68f16188c37"
      },
      "execution_count": 3,
      "outputs": [
        {
          "output_type": "display_data",
          "data": {
            "text/plain": [
              "<Figure size 432x288 with 1 Axes>"
            ],
            "image/png": "[encoded data removed]"
          },
          "metadata": {
            "needs_background": "light"
          }
        }
      ]
    },
    {
      "cell_type": "code",
      "source": [
        "digits.target[-2]"
      ],
      "metadata": {
        "colab": {
          "base_uri": "https://localhost:8080/"
        },
        "id": "0NPIY5DrHNyr",
        "outputId": "0deb209c-72d6-4536-d886-cda601728903"
      },
      "execution_count": 4,
      "outputs": [
        {
          "output_type": "execute_result",
          "data": {
            "text/plain": [
              "9"
            ]
          },
          "metadata": {},
          "execution_count": 4
        }
      ]
    },
    {
      "cell_type": "markdown",
      "source": [
        "SPLIT THE DATASET"
      ],
      "metadata": {
        "id": "aTOfmJLLID1s"
      }
    },
    {
      "cell_type": "code",
      "source": [
        "X = digits.data\n",
        "Y = digits.target\n",
        "X, Y\n"
      ],
      "metadata": {
        "colab": {
          "base_uri": "https://localhost:8080/"
        },
        "id": "gSkp-Mt9HRiD",
        "outputId": "ea9db9b8-6263-4192-e1ea-e71f63d1da33"
      },
      "execution_count": 5,
      "outputs": [
        {
          "output_type": "execute_result",
          "data": {
            "text/plain": [
              "(array([[ 0.,  0.,  5., ...,  0.,  0.,  0.],\n",
              "        [ 0.,  0.,  0., ..., 10.,  0.,  0.],\n",
              "        [ 0.,  0.,  0., ..., 16.,  9.,  0.],\n",
              "        ...,\n",
              "        [ 0.,  0.,  1., ...,  6.,  0.,  0.],\n",
              "        [ 0.,  0.,  2., ..., 12.,  0.,  0.],\n",
              "        [ 0.,  0., 10., ..., 12.,  1.,  0.]]), array([0, 1, 2, ..., 8, 9, 8]))"
            ]
          },
          "metadata": {},
          "execution_count": 5
        }
      ]
    },
    {
      "cell_type": "code",
      "source": [
        "x_train, x_test, y_train, y_test = train_test_split(X, Y, shuffle=False, test_size=0.3)"
      ],
      "metadata": {
        "id": "L74LZZAXHVNb"
      },
      "execution_count": 6,
      "outputs": []
    },
    {
      "cell_type": "markdown",
      "source": [
        "TRAINING USING LEARNING VECTOR QUANTIZATION"
      ],
      "metadata": {
        "id": "Sj-0NWEZIHiy"
      }
    },
    {
      "cell_type": "code",
      "source": [
        "def lvq_train(X, y, a, b, max_ep, min_a, e):\n",
        "    c, train_idx = np.unique(y, True)\n",
        "    r = c\n",
        "    W = X[train_idx].astype(np.float64)\n",
        "    train = np.array([e for i, e in enumerate(zip(X, y)) if i not in train_idx])\n",
        "    X = train[:, 0]\n",
        "    y = train[:, 1]\n",
        "    ep = 0\n",
        " \n",
        "    while ep < max_ep and a > min_a:\n",
        "        for i, x in enumerate(X):\n",
        "            d = [math.sqrt(sum((w - x) ** 2)) for w in W]\n",
        "            min_1 = np.argmin(d)\n",
        " \n",
        "            min_2 = 0\n",
        "            dc = float(np.amin(d))\n",
        "            dr = 0\n",
        "            min_2 = d.index(sorted(d)[1])\n",
        "            dr = float(d[min_2])\n",
        "            if c[min_1] == y[i] and c[min_1] != r[min_2]:\n",
        "                W[min_1] = W[min_1] + a * (x - W[min_1])\n",
        " \n",
        "            elif c[min_1] != r[min_2] and y[i] == r[min_2]:\n",
        "                if dc != 0 and dr != 0:\n",
        " \n",
        "                    if min((dc/dr),(dr/dc)) > (1-e) / (1+e):\n",
        "                        W[min_1] = W[min_1] - a * (x - W[min_1])\n",
        "                        W[min_2] = W[min_2] + a * (x - W[min_2])\n",
        "            elif c[min_1] == r[min_2] and y[i] == r[min_2]:\n",
        "                W[min_1] = W[min_1] + e * a * (x - W[min_1])\n",
        "                W[min_2] = W[min_2] + e * a * (x- W[min_2])\n",
        "        a = a * b\n",
        "        ep += 1\n",
        "    return W, c"
      ],
      "metadata": {
        "id": "tIb67vX0HbFp"
      },
      "execution_count": 7,
      "outputs": []
    },
    {
      "cell_type": "markdown",
      "source": [
        "TEST THE LEARNING VECTOR QUANTIZATION"
      ],
      "metadata": {
        "id": "Lr_sCo3FIM2d"
      }
    },
    {
      "cell_type": "code",
      "source": [
        "def lvq_test(x, W):\n",
        "    \n",
        "    W, c = W\n",
        "    d = [math.sqrt(sum((w - x) ** 2)) for w in W]\n",
        " \n",
        "    return c[np.argmin(d)]\n"
      ],
      "metadata": {
        "id": "7yAWHN_nHgXz"
      },
      "execution_count": 8,
      "outputs": []
    },
    {
      "cell_type": "markdown",
      "source": [
        "EVALUATION OF THE ALGORITHM"
      ],
      "metadata": {
        "id": "a03YLJSIIQuu"
      }
    },
    {
      "cell_type": "code",
      "source": [
        "W = lvq_train(x_train, y_train, 0.2, 0.5, 100, 0.001, 0.3)\n",
        "W\n"
      ],
      "metadata": {
        "colab": {
          "base_uri": "https://localhost:8080/"
        },
        "id": "s_Jp61MvHjeT",
        "outputId": "7b151101-1985-413a-842c-27d1a83d18d5"
      },
      "execution_count": 9,
      "outputs": [
        {
          "output_type": "stream",
          "name": "stderr",
          "text": [
            "/usr/local/lib/python3.7/dist-packages/ipykernel_launcher.py:5: VisibleDeprecationWarning: Creating an ndarray from ragged nested sequences (which is a list-or-tuple of lists-or-tuples-or ndarrays with different lengths or shapes) is deprecated. If you meant to do this, you must specify 'dtype=object' when creating the ndarray.\n",
            "  \"\"\"\n"
          ]
        },
        {
          "output_type": "execute_result",
          "data": {
            "text/plain": [
              "(array([[ 0.00000000e+00,  4.47663115e-02,  4.24301447e+00,\n",
              "          1.29272709e+01,  1.16740193e+01,  3.44186129e+00,\n",
              "          4.06720049e-02,  0.00000000e+00,  0.00000000e+00,\n",
              "          1.07331639e+00,  1.27122963e+01,  1.27458352e+01,\n",
              "          1.05645441e+01,  1.17136003e+01,  1.25905350e+00,\n",
              "          0.00000000e+00,  0.00000000e+00,  4.02867738e+00,\n",
              "          1.40534853e+01,  4.36555425e+00,  1.84830361e+00,\n",
              "          1.16064501e+01,  3.96973039e+00,  0.00000000e+00,\n",
              "          0.00000000e+00,  5.47032479e+00,  1.23593791e+01,\n",
              "          1.39949702e+00,  1.44537789e-01,  8.79927561e+00,\n",
              "          6.59088392e+00,  0.00000000e+00,  0.00000000e+00,\n",
              "          6.02146032e+00,  1.11125684e+01,  4.84781400e-01,\n",
              "          3.54719256e-02,  8.88492781e+00,  7.03804629e+00,\n",
              "          0.00000000e+00,  0.00000000e+00,  3.60218963e+00,\n",
              "          1.28860842e+01,  1.36994805e+00,  1.41980742e+00,\n",
              "          1.11896366e+01,  5.59606955e+00,  0.00000000e+00,\n",
              "          0.00000000e+00,  8.20977810e-01,  1.30367195e+01,\n",
              "          9.12788783e+00,  1.00198046e+01,  1.28413837e+01,\n",
              "          2.50382371e+00,  0.00000000e+00,  0.00000000e+00,\n",
              "          0.00000000e+00,  4.22564789e+00,  1.36285399e+01,\n",
              "          1.32367570e+01,  5.28674925e+00,  3.75222792e-01,\n",
              "          0.00000000e+00],\n",
              "        [ 0.00000000e+00,  1.85648486e-02,  3.48122731e+00,\n",
              "          1.03711321e+01,  9.84000119e+00,  5.45743286e+00,\n",
              "          7.77621816e-01,  0.00000000e+00,  0.00000000e+00,\n",
              "          8.18825031e-02,  4.36552502e+00,  1.35934051e+01,\n",
              "          1.33461896e+01,  7.98724812e+00,  1.02313329e+00,\n",
              "         -5.74496147e-05,  0.00000000e+00,  7.03916882e-01,\n",
              "          6.56709520e+00,  1.52841271e+01,  1.41012670e+01,\n",
              "          6.45316881e+00,  4.15457874e-01, -5.74496140e-05,\n",
              "         -1.56880229e-04,  1.89412501e+00,  9.18871654e+00,\n",
              "          1.55886985e+01,  1.43995670e+01,  5.32232483e+00,\n",
              "          1.38545793e-01,  0.00000000e+00,  0.00000000e+00,\n",
              "          1.11588885e+00,  7.21605863e+00,  1.29039524e+01,\n",
              "          1.43686286e+01,  4.65901897e+00,  1.19538203e-01,\n",
              "          0.00000000e+00,  0.00000000e+00,  2.48873623e-01,\n",
              "          5.22295180e+00,  1.09315183e+01,  1.36230020e+01,\n",
              "          4.81043356e+00,  9.10135265e-03,  0.00000000e+00,\n",
              "          0.00000000e+00,  7.35789963e-02,  5.46646213e+00,\n",
              "          1.22722745e+01,  1.41839407e+01,  6.97388548e+00,\n",
              "          2.21300589e+00,  1.02401404e+00,  0.00000000e+00,\n",
              "         -3.29934317e-13,  3.28604984e+00,  1.06764968e+01,\n",
              "          1.36021799e+01,  8.62087345e+00,  3.96238518e+00,\n",
              "          2.49944692e+00],\n",
              "        [ 0.00000000e+00,  9.40517799e-01,  1.00862492e+01,\n",
              "          1.50594363e+01,  1.05338926e+01,  2.16500317e+00,\n",
              "          4.99779229e-02,  0.00000000e+00,  0.00000000e+00,\n",
              "          5.91108959e+00,  1.49288874e+01,  1.18881004e+01,\n",
              "          1.36194975e+01,  5.34102221e+00,  2.22479703e-01,\n",
              "          0.00000000e+00,  8.14659356e-03,  5.03010080e+00,\n",
              "          8.32502304e+00,  3.59981955e+00,  1.30801726e+01,\n",
              "          5.51217783e+00,  1.28112849e-01,  0.00000000e+00,\n",
              "          0.00000000e+00,  1.05021501e+00,  1.83328457e+00,\n",
              "          4.80261520e+00,  1.35467107e+01,  3.56233826e+00,\n",
              "         -5.84103809e-02,  0.00000000e+00,  0.00000000e+00,\n",
              "          3.86571013e-02,  1.39830515e+00,  9.41986113e+00,\n",
              "          1.04794820e+01,  1.49079279e+00,  0.00000000e+00,\n",
              "          0.00000000e+00,  0.00000000e+00,  3.86564498e-01,\n",
              "          5.48788629e+00,  1.22461970e+01,  6.08666677e+00,\n",
              "          1.22039535e+00,  9.29756019e-01,  0.00000000e+00,\n",
              "          0.00000000e+00,  1.54256975e+00,  1.17667702e+01,\n",
              "          1.42729661e+01,  1.09740645e+01,  1.00490741e+01,\n",
              "          7.07430765e+00,  7.20313406e-01,  0.00000000e+00,\n",
              "          8.73639615e-01,  1.06690739e+01,  1.47111227e+01,\n",
              "          1.39482839e+01,  1.24826453e+01,  8.46111665e+00,\n",
              "          1.82508931e+00],\n",
              "        [ 0.00000000e+00,  5.97392761e-01,  8.08936504e+00,\n",
              "          1.38562470e+01,  1.41440381e+01,  7.37090853e+00,\n",
              "          6.25777668e-01,  0.00000000e+00,  2.28935747e-02,\n",
              "          4.51303458e+00,  1.26442232e+01,  8.72536968e+00,\n",
              "          1.09165402e+01,  1.18915740e+01,  2.00688082e+00,\n",
              "          1.78922879e-02,  1.06195158e-02,  2.85542509e+00,\n",
              "          3.71791257e+00,  2.45112230e+00,  1.17508704e+01,\n",
              "          9.17546354e+00,  8.20511192e-01,  0.00000000e+00,\n",
              "          0.00000000e+00,  3.27995025e-01,  1.07747671e+00,\n",
              "          8.22718201e+00,  1.46016024e+01,  5.97573456e+00,\n",
              "          8.36796084e-02,  0.00000000e+00,  0.00000000e+00,\n",
              "          1.03871023e-01,  6.98761484e-01,  4.56254322e+00,\n",
              "          1.15996449e+01,  1.23294044e+01,  2.44020523e+00,\n",
              "          0.00000000e+00,  0.00000000e+00,  6.98477450e-01,\n",
              "          1.71096021e+00,  2.30949003e-01,  3.00363583e+00,\n",
              "          1.25587141e+01,  7.19208311e+00,  0.00000000e+00,\n",
              "          0.00000000e+00,  1.04834314e+00,  7.28379218e+00,\n",
              "          5.88568823e+00,  6.97394215e+00,  1.32099772e+01,\n",
              "          6.67424644e+00,  6.63523334e-02,  0.00000000e+00,\n",
              "          4.50776543e-01,  8.93305678e+00,  1.44972065e+01,\n",
              "          1.42992000e+01,  9.36971277e+00,  1.64566520e+00,\n",
              "         -3.64302001e-02],\n",
              "        [ 0.00000000e+00,  0.00000000e+00,  2.55288447e-01,\n",
              "          7.12459392e+00,  1.22019894e+01,  1.45415046e+00,\n",
              "         -8.96795003e-02,  1.89716617e-01,  0.00000000e+00,\n",
              "          4.73449359e-02,  3.44061039e+00,  1.36743975e+01,\n",
              "          8.83193021e+00,  2.22500844e+00,  1.46573695e+00,\n",
              "          4.56094283e-01,  0.00000000e+00,  8.30497706e-01,\n",
              "          1.08183205e+01,  1.16349467e+01,  4.98448462e+00,\n",
              "          6.29940499e+00,  4.91299426e+00,  5.42811260e-01,\n",
              "          5.82325416e-03,  5.04941539e+00,  1.46399618e+01,\n",
              "          6.24211345e+00,  7.74279424e+00,  1.06000629e+01,\n",
              "          6.13676148e+00,  4.07254393e-02,  0.00000000e+00,\n",
              "          8.87395995e+00,  1.46865793e+01,  1.01692850e+01,\n",
              "          1.39344328e+01,  1.37421781e+01,  5.10010142e+00,\n",
              "          0.00000000e+00,  1.23765385e-01,  5.93197088e+00,\n",
              "          1.03983603e+01,  1.18596233e+01,  1.49053532e+01,\n",
              "          1.04490911e+01,  1.67844330e+00,  0.00000000e+00,\n",
              "          9.92026552e-02,  9.66021961e-01,  2.12890817e+00,\n",
              "          7.31656263e+00,  1.37011411e+01,  3.79136888e+00,\n",
              "          3.00569389e-02,  0.00000000e+00,  0.00000000e+00,\n",
              "          2.58184027e-02,  3.17033474e-01,  8.08998908e+00,\n",
              "          1.21245095e+01,  1.70516643e+00,  0.00000000e+00,\n",
              "          0.00000000e+00],\n",
              "        [ 0.00000000e+00,  9.97038382e-01,  9.92005974e+00,\n",
              "          1.31732918e+01,  1.41868664e+01,  1.30615163e+01,\n",
              "          5.26463321e+00,  6.87574660e-02,  7.14811704e-03,\n",
              "          4.67544040e+00,  1.52644400e+01,  1.23499509e+01,\n",
              "          8.81377865e+00,  6.87906862e+00,  2.80992850e+00,\n",
              "          4.98063555e-02,  0.00000000e+00,  6.11343074e+00,\n",
              "          1.46297699e+01,  5.71763798e+00,  1.69147212e+00,\n",
              "          3.72994847e-01,  2.60581770e-02, -2.65258921e-04,\n",
              "          0.00000000e+00,  5.42694388e+00,  1.42043392e+01,\n",
              "          1.21129737e+01,  8.71008434e+00,  2.92051887e+00,\n",
              "          4.07552569e-01,  0.00000000e+00,  0.00000000e+00,\n",
              "          2.37309021e+00,  7.97796344e+00,  8.77751304e+00,\n",
              "          9.86407131e+00,  6.43207685e+00,  1.08012567e+00,\n",
              "          0.00000000e+00,  0.00000000e+00,  2.01435816e-01,\n",
              "          1.21189798e+00,  4.09423530e+00,  8.83482052e+00,\n",
              "          8.02496034e+00,  1.44195742e+00,  0.00000000e+00,\n",
              "          0.00000000e+00,  7.22453415e-01,  5.15696400e+00,\n",
              "          8.41832292e+00,  1.16698364e+01,  6.60684055e+00,\n",
              "          8.37836407e-01,  0.00000000e+00,  0.00000000e+00,\n",
              "          9.13741355e-01,  1.09371345e+01,  1.49692012e+01,\n",
              "          9.00770946e+00,  1.77401460e+00,  2.50527082e-02,\n",
              "          0.00000000e+00],\n",
              "        [ 0.00000000e+00,  0.00000000e+00,  1.18619993e+00,\n",
              "          1.09916287e+01,  9.90231129e+00,  1.75612813e+00,\n",
              "          6.81994763e-03,  0.00000000e+00,  0.00000000e+00,\n",
              "          2.96796532e-02,  7.58459979e+00,  1.44101337e+01,\n",
              "          5.91860940e+00,  9.74302909e-01,  3.40997381e-02,\n",
              "          0.00000000e+00,  0.00000000e+00,  7.49135994e-01,\n",
              "          1.30867676e+01,  8.64428930e+00,  5.61853842e-01,\n",
              "          6.43842354e-02, -1.23777478e-21,  0.00000000e+00,\n",
              "          0.00000000e+00,  2.56371272e+00,  1.39304432e+01,\n",
              "          6.66608065e+00,  3.09659077e+00,  1.55178365e+00,\n",
              "          7.03732303e-02,  0.00000000e+00,  0.00000000e+00,\n",
              "          3.72048820e+00,  1.49681241e+01,  1.22824068e+01,\n",
              "          1.20277831e+01,  1.05138320e+01,  2.47944741e+00,\n",
              "          0.00000000e+00,  0.00000000e+00,  2.07803778e+00,\n",
              "          1.51879581e+01,  1.09941664e+01,  5.51775669e+00,\n",
              "          1.00124904e+01,  9.65485486e+00,  1.34101042e-01,\n",
              "          0.00000000e+00,  1.84804106e-01,  1.06736412e+01,\n",
              "          1.21649498e+01,  4.48992380e+00,  1.03721582e+01,\n",
              "          1.13128062e+01,  6.16570828e-01,  0.00000000e+00,\n",
              "          0.00000000e+00,  1.47224600e+00,  1.07853935e+01,\n",
              "          1.50372716e+01,  1.35190906e+01,  5.12448144e+00,\n",
              "          1.48137733e-01],\n",
              "        [ 0.00000000e+00,  2.48836195e-02,  5.11731916e+00,\n",
              "          1.28761491e+01,  1.41348994e+01,  1.20167549e+01,\n",
              "          6.16890515e+00,  1.27185019e+00,  0.00000000e+00,\n",
              "          6.53718749e-01,  1.05562339e+01,  1.16434223e+01,\n",
              "          1.15291163e+01,  1.29553828e+01,  5.76752592e+00,\n",
              "          8.07238500e-01,  0.00000000e+00,  6.22303773e-01,\n",
              "          4.86487040e+00,  1.90540143e+00,  7.15838965e+00,\n",
              "          1.07184180e+01,  3.09078956e+00,  1.49086200e-01,\n",
              "          0.00000000e+00,  3.99373755e-01,  3.94103761e+00,\n",
              "          5.89926041e+00,  1.22391386e+01,  1.15657018e+01,\n",
              "          4.84334598e+00, -8.66892188e-03,  0.00000000e+00,\n",
              "          9.10076364e-01,  8.99162302e+00,  1.33403749e+01,\n",
              "          1.46705654e+01,  1.12529642e+01,  4.15664105e+00,\n",
              "          0.00000000e+00,  0.00000000e+00,  1.00715577e+00,\n",
              "          5.53301302e+00,  1.16791665e+01,  1.05829139e+01,\n",
              "          4.34582521e+00,  7.24340069e-01,  0.00000000e+00,\n",
              "          0.00000000e+00,  2.21320316e-02,  2.81320839e+00,\n",
              "          1.25018244e+01,  5.57160271e+00,  2.24081070e-01,\n",
              "         -8.31167538e-07,  0.00000000e+00,  0.00000000e+00,\n",
              "          1.25096337e-02,  6.42206344e+00,  1.16441412e+01,\n",
              "          2.09908510e+00,  7.60721369e-03, -2.07791885e-06,\n",
              "          0.00000000e+00],\n",
              "        [ 0.00000000e+00,  2.23312301e-01,  5.62522516e+00,\n",
              "          1.16116113e+01,  1.20575917e+01,  6.09468148e+00,\n",
              "          4.32655584e-01,  0.00000000e+00,  1.26553553e-02,\n",
              "          2.30492334e+00,  1.24563416e+01,  1.03037098e+01,\n",
              "          9.31320943e+00,  1.12313009e+01,  2.32784488e+00,\n",
              "          0.00000000e+00,  0.00000000e+00,  3.24982106e+00,\n",
              "          1.17090252e+01,  6.24419345e+00,  7.70210890e+00,\n",
              "          1.14095212e+01,  2.20908022e+00,  0.00000000e+00,\n",
              "          0.00000000e+00,  1.15865940e+00,  8.74631326e+00,\n",
              "          1.33414179e+01,  1.30225735e+01,  7.16872113e+00,\n",
              "          7.16499064e-01,  0.00000000e+00,  0.00000000e+00,\n",
              "          3.25444982e-01,  6.65715095e+00,  1.43208971e+01,\n",
              "          1.29643545e+01,  4.25182568e+00,  7.34621389e-02,\n",
              "          0.00000000e+00,  0.00000000e+00,  1.18123159e+00,\n",
              "          1.08347699e+01,  8.11074301e+00,  9.04375757e+00,\n",
              "          9.03870903e+00,  1.47031739e+00,  0.00000000e+00,\n",
              "          0.00000000e+00,  1.09059019e+00,  1.12082323e+01,\n",
              "          7.09662785e+00,  7.26650570e+00,  1.01852683e+01,\n",
              "          2.93418050e+00,  1.02118865e-02,  0.00000000e+00,\n",
              "          1.96995108e-01,  5.41994856e+00,  1.23996089e+01,\n",
              "          1.31195263e+01,  7.60191140e+00,  1.55878701e+00,\n",
              "          1.68776040e-02],\n",
              "        [ 0.00000000e+00,  1.13079939e-01,  6.08033574e+00,\n",
              "          1.22566584e+01,  1.05704231e+01,  4.14704698e+00,\n",
              "          1.14988994e+00,  1.36783325e-02,  0.00000000e+00,\n",
              "          2.17890370e+00,  1.24337988e+01,  9.73737030e+00,\n",
              "          9.96036413e+00,  1.09456979e+01,  2.15081333e+00,\n",
              "          7.17344081e-02,  0.00000000e+00,  3.12883874e+00,\n",
              "          1.20940527e+01,  5.57550971e+00,  7.53131806e+00,\n",
              "          1.48114845e+01,  3.04320441e+00,  6.86495551e-02,\n",
              "          0.00000000e+00,  1.90389976e+00,  1.05304304e+01,\n",
              "          1.20941519e+01,  1.37702387e+01,  1.50966648e+01,\n",
              "          3.67738776e+00,  0.00000000e+00,  0.00000000e+00,\n",
              "          2.71769195e-02,  3.42889388e+00,  6.48881032e+00,\n",
              "          5.29131888e+00,  1.23974541e+01,  4.85448893e+00,\n",
              "          0.00000000e+00,  0.00000000e+00,  2.51203634e-01,\n",
              "          3.43609446e-01,  6.58586226e-03,  1.13532391e+00,\n",
              "          1.01026944e+01,  6.67753138e+00,  5.87257141e-02,\n",
              "          0.00000000e+00,  7.94717826e-01,  6.50464232e+00,\n",
              "          4.09968770e+00,  4.57209957e+00,  1.05589374e+01,\n",
              "          6.92047275e+00,  2.18927183e-01,  0.00000000e+00,\n",
              "          6.24242629e-02,  6.03716522e+00,  1.16474269e+01,\n",
              "          1.38945491e+01,  1.10073691e+01,  3.24555598e+00,\n",
              "          9.74804397e-02]]), array([0, 1, 2, 3, 4, 5, 6, 7, 8, 9]))"
            ]
          },
          "metadata": {},
          "execution_count": 9
        }
      ]
    },
    {
      "cell_type": "code",
      "source": [
        "predicted = []\n",
        "for i in x_test:\n",
        "    predicted.append(lvq_test(i, W))\n"
      ],
      "metadata": {
        "id": "Y0-l7sguHmSD"
      },
      "execution_count": 10,
      "outputs": []
    },
    {
      "cell_type": "code",
      "source": [
        "def print_metrics(labels, preds):\n",
        "    print(\"Precision Score: {}\".format(precision_score(labels,\n",
        "           preds, average = 'weighted')))\n",
        "    print(\"Recall Score: {}\".format(recall_score(labels, preds,\n",
        "           average = 'weighted')))\n",
        "    print(\"Accuracy Score: {}\".format(accuracy_score(labels,\n",
        "           preds)))\n",
        "    print(\"F1 Score: {}\".format(f1_score(labels, preds, average =\n",
        "           'weighted')))\n",
        "print_metrics(y_test, predicted)\n"
      ],
      "metadata": {
        "colab": {
          "base_uri": "https://localhost:8080/"
        },
        "id": "tMxjdjsLHrFL",
        "outputId": "9ce353f6-3c1b-4fce-ea2c-93925911c809"
      },
      "execution_count": 11,
      "outputs": [
        {
          "output_type": "stream",
          "name": "stdout",
          "text": [
            "Precision Score: 0.8793215182118257\n",
            "Recall Score: 0.8703703703703703\n",
            "Accuracy Score: 0.8703703703703703\n",
            "F1 Score: 0.8719772817748163\n"
          ]
        }
      ]
    },
    {
      "cell_type": "code",
      "source": [
        ""
      ],
      "metadata": {
        "id": "x6fLd0tWHup6"
      },
      "execution_count": null,
      "outputs": []
    }
  ]
}